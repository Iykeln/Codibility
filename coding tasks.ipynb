{
 "cells": [
  {
   "cell_type": "markdown",
   "id": "16994599",
   "metadata": {},
   "source": [
    "# [100%] BinaryGap\n",
    "\n",
    "#### Find longest sequence of zeros in binary representation of an integer.\n",
    "#### Programming language: Python\n",
    "    \n",
    "#### A binary gap within a positive integer N is any maximal sequence of consecutive zeros that is surrounded by ones at both ends in the binary representation of N.\n",
    "\n",
    "#### For example, number 9 has binary representation 1001 and contains a binary gap of length 2. The number 529 has binary representation 1000010001 and contains two binary gaps: one of length 4 and one of length 3. The number 20 has binary representation 10100 and contains one binary gap of length 1. The number 15 has binary representation 1111 and has no binary gaps. The number 32 has binary representation 100000 and has no binary gaps.\n",
    "\n",
    "#### Write a function:\n",
    "\n",
    "#### def solution(N)\n",
    "\n",
    "#### that, given a positive integer N, returns the length of its longest binary gap. The function should return 0 if N doesn't contain a binary gap.\n",
    "\n",
    "#### For example, given N = 1041 the function should return 5, because N has binary representation 10000010001 and so its longest binary gap is of length 5. Given N = 32 the function should return 0, because N has binary representation '100000' and thus no binary gaps.\n",
    "\n",
    "#### Write an efficient algorithm for the following assumptions:\n",
    "\n",
    "#### N is an integer within the range [1..2,147,483,647].\n",
    "\n",
    "#### Exercise by Codility Limited."
   ]
  },
  {
   "cell_type": "code",
   "execution_count": 1,
   "id": "f1295971",
   "metadata": {},
   "outputs": [],
   "source": [
    "#Author: Ikechukwu Onyenwe (my solution)\n",
    "# you can write to stdout for debugging purposes, e.g.\n",
    "# print(\"this is a debug message\")\n",
    "\n",
    "def solution(N):\n",
    "    # write your code in Python 3.6\n",
    "\n",
    "    # create containers for zeros and binary gaps found\n",
    "    zeros_list = []\n",
    "    binary_gap_found = []\n",
    "\n",
    "    # create binary of any positive integer N and found its length\n",
    "    binarylist = list(\"{0:b}\".format(N))\n",
    "    binarylist_length = len(binarylist)\n",
    "\n",
    "    # iterate through the binary list\n",
    "    for i in range(binarylist_length):\n",
    "        bit = int(binarylist[i])\n",
    "        zeros_list.append(bit)\n",
    "\n",
    "        if bit == 1:\n",
    "\n",
    "            # check if zeros found are bounded by 1s at the start and end (e.g. 10001) \n",
    "            # and keep as binary gap found if test is true. \n",
    "            if int(zeros_list[0]) == 1 and len(zeros_list[1:-1]) != 0 and int(zeros_list[-1]) == 1:\n",
    "                binary_gap_found.append(len(zeros_list[1:-1]))\n",
    "            \n",
    "            # reinitialize the container\n",
    "            zeros_list = []\n",
    "            zeros_list.append(binarylist[i])\n",
    "\n",
    "    # return max value of the binary gap found list or zero if no found.\n",
    "    if len(binary_gap_found) > 0:\n",
    "        return max(binary_gap_found)\n",
    "    else: return 0"
   ]
  },
  {
   "cell_type": "code",
   "execution_count": 2,
   "id": "dfff1b4e",
   "metadata": {},
   "outputs": [
    {
     "data": {
      "text/plain": [
       "1"
      ]
     },
     "execution_count": 2,
     "metadata": {},
     "output_type": "execute_result"
    }
   ],
   "source": [
    "N = 20\n",
    "solution(N)"
   ]
  },
  {
   "cell_type": "code",
   "execution_count": null,
   "id": "bbabc46f",
   "metadata": {},
   "outputs": [],
   "source": []
  }
 ],
 "metadata": {
  "kernelspec": {
   "display_name": "Python 3 (ipykernel)",
   "language": "python",
   "name": "python3"
  },
  "language_info": {
   "codemirror_mode": {
    "name": "ipython",
    "version": 3
   },
   "file_extension": ".py",
   "mimetype": "text/x-python",
   "name": "python",
   "nbconvert_exporter": "python",
   "pygments_lexer": "ipython3",
   "version": "3.9.7"
  }
 },
 "nbformat": 4,
 "nbformat_minor": 5
}
